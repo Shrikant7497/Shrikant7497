{
 "cells": [
  {
   "cell_type": "code",
   "execution_count": 57,
   "id": "14695f8e-65d4-4aa9-9cef-9b7df023d840",
   "metadata": {},
   "outputs": [],
   "source": [
    "from pyspark.sql import SparkSession\n",
    "from pyspark.sql.types import StructField, StringType, IntegerType, StructType,DoubleType\n",
    "from pyspark.ml.feature import StringIndexer, VectorIndexer, VectorAssembler\n",
    "from pyspark.ml import Pipeline\n",
    "from pyspark.ml.classification import LogisticRegression\n",
    "from pyspark.ml.evaluation import MulticlassClassificationEvaluator"
   ]
  },
  {
   "cell_type": "code",
   "execution_count": 58,
   "id": "86f90dc7-4ff3-4ab8-b16e-0af130b29780",
   "metadata": {},
   "outputs": [],
   "source": [
    "spark = SparkSession.builder.appName(\"credit\").getOrCreate()"
   ]
  },
  {
   "cell_type": "code",
   "execution_count": 59,
   "id": "55d22c5b-4d09-486c-932e-6535699bb0e3",
   "metadata": {},
   "outputs": [
    {
     "data": {
      "text/html": [
       "\n",
       "            <div>\n",
       "                <p><b>SparkSession - in-memory</b></p>\n",
       "                \n",
       "        <div>\n",
       "            <p><b>SparkContext</b></p>\n",
       "\n",
       "            <p><a href=\"http://192.168.1.109:4041\">Spark UI</a></p>\n",
       "\n",
       "            <dl>\n",
       "              <dt>Version</dt>\n",
       "                <dd><code>v3.1.2</code></dd>\n",
       "              <dt>Master</dt>\n",
       "                <dd><code>local[*]</code></dd>\n",
       "              <dt>AppName</dt>\n",
       "                <dd><code>credit</code></dd>\n",
       "            </dl>\n",
       "        </div>\n",
       "        \n",
       "            </div>\n",
       "        "
      ],
      "text/plain": [
       "<pyspark.sql.session.SparkSession at 0x7f36f46d5bb0>"
      ]
     },
     "execution_count": 59,
     "metadata": {},
     "output_type": "execute_result"
    }
   ],
   "source": [
    "spark"
   ]
  },
  {
   "cell_type": "code",
   "execution_count": 60,
   "id": "3372ee0e-aa91-4296-8309-e2c7c926af3c",
   "metadata": {},
   "outputs": [],
   "source": [
    "df = spark.read.csv(\"data.csv\")"
   ]
  },
  {
   "cell_type": "code",
   "execution_count": 61,
   "id": "80209705-3ad2-43f8-8921-307ff2fd6a33",
   "metadata": {},
   "outputs": [
    {
     "data": {
      "text/plain": [
       "DataFrame[_c0: string, _c1: string, _c2: string, _c3: string, _c4: string, _c5: string, _c6: string, _c7: string, _c8: string, _c9: string, _c10: string, _c11: string, _c12: string, _c13: string, _c14: string, _c15: string, _c16: string, _c17: string, _c18: string, _c19: string, _c20: string, _c21: string, _c22: string, _c23: string, _c24: string, _c25: string, _c26: string, _c27: string, _c28: string, _c29: string, _c30: string, _c31: string, _c32: string, _c33: string, _c34: string, _c35: string, _c36: string]"
      ]
     },
     "execution_count": 61,
     "metadata": {},
     "output_type": "execute_result"
    }
   ],
   "source": [
    "df"
   ]
  },
  {
   "cell_type": "code",
   "execution_count": 62,
   "id": "7b2563a9-8cda-4035-bd27-e4e058de120f",
   "metadata": {},
   "outputs": [],
   "source": [
    "data_schema = [StructField(\"TARGET\", IntegerType(), True),\n",
    "               StructField(\"NAME_CONTRACT_TYPE\",StringType(),True),\n",
    "               StructField(\"CODE_GENDER\", StringType(), True),\n",
    "               StructField(\"FLAG_OWN_CAR\", StringType(), True),\n",
    "               StructField(\"FLAG_OWN_REALTY\", StringType(), True),\n",
    "               StructField(\"CNT_CHILDREN\", DoubleType(), True),\n",
    "               StructField(\"AMT_INCOME_TOTAL\", DoubleType(), True),\n",
    "               StructField(\"AMT_CREDIT\", DoubleType(), True),\n",
    "               StructField(\"AMT_ANNUITY\", DoubleType(), True),\n",
    "               StructField(\"NAME_INCOME_TYPE\", StringType(), True),\n",
    "               StructField(\"NAME_EDUCATION_TYPE\", StringType(), True),\n",
    "               StructField(\"NAME_FAMILY_STATUS\", StringType(), True),\n",
    "               StructField(\"NAME_HOUSING_TYPE\", StringType(), True),\n",
    "               StructField(\"DAYS_BIRTH\", IntegerType(), True),\n",
    "               StructField(\"DAYS_EMPLOYED\", IntegerType(), True),\n",
    "               StructField(\"FLAG_MOBIL\", IntegerType(), True),\n",
    "               StructField(\"FLAG_EMP_PHONE\", IntegerType(), True),\n",
    "               StructField(\"FLAG_WORK_PHONE\", IntegerType(), True),\n",
    "               StructField(\"FLAG_CONT_MOBILE\", IntegerType(), True),\n",
    "               StructField(\"FLAG_PHONE\", DoubleType(), True),\n",
    "               StructField(\"CNT_FAM_MEMBERS\", DoubleType(), True),\n",
    "               StructField(\"REGION_RATING_CLIENT\", IntegerType(), True),\n",
    "               StructField(\"REGION_RATING_CLIENT_W_CITY\", IntegerType(), True),\n",
    "               StructField(\"REG_REGION_NOT_LIVE_REGION\", IntegerType(), True),\n",
    "               StructField(\"REG_REGION_NOT_WORK_REGION\", StringType(), True),\n",
    "               StructField(\"ORGANIZATION_TYPE\", StringType(), True),\n",
    "               StructField(\"FLAG_DOCUMENT_2\", DoubleType(), True),\n",
    "               StructField(\"FLAG_DOCUMENT_3\", DoubleType(), True),\n",
    "               StructField(\"FLAG_DOCUMENT_4\", DoubleType(), True),\n",
    "               StructField(\"FLAG_DOCUMENT_5\", DoubleType(), True),\n",
    "               StructField(\"FLAG_DOCUMENT_6\", DoubleType(), True),\n",
    "               StructField(\"FLAG_DOCUMENT_7\", DoubleType(), True),\n",
    "               StructField(\"FLAG_DOCUMENT_8\", DoubleType(), True),\n",
    "               StructField(\"FLAG_DOCUMENT_9\", DoubleType(), True),\n",
    "               StructField(\"FLAG_DOCUMENT_10\", DoubleType(), True),\n",
    "               StructField(\"FLAG_DOCUMENT_11\", DoubleType(), True),\n",
    "               StructField(\"FLAG_DOCUMENT_12\", DoubleType(), True)]"
   ]
  },
  {
   "cell_type": "code",
   "execution_count": 63,
   "id": "ff8b54c9-1005-49b3-a182-b080a66f20a5",
   "metadata": {},
   "outputs": [],
   "source": [
    "final_schema = StructType(fields=data_schema)"
   ]
  },
  {
   "cell_type": "code",
   "execution_count": 64,
   "id": "f3e372c1-7670-4193-b898-46aae2677f60",
   "metadata": {},
   "outputs": [
    {
     "data": {
      "text/plain": [
       "pyspark.sql.types.StructType"
      ]
     },
     "execution_count": 64,
     "metadata": {},
     "output_type": "execute_result"
    }
   ],
   "source": [
    "StructType"
   ]
  },
  {
   "cell_type": "code",
   "execution_count": 65,
   "id": "5e9ff94e-ef32-450d-8ec2-ab20448f9967",
   "metadata": {},
   "outputs": [],
   "source": [
    "df = spark.read.csv(\"data.csv\", schema=final_schema)"
   ]
  },
  {
   "cell_type": "code",
   "execution_count": 66,
   "id": "37880bf6-f944-45a3-82c1-515871ede3af",
   "metadata": {},
   "outputs": [
    {
     "name": "stdout",
     "output_type": "stream",
     "text": [
      "root\n",
      " |-- TARGET: integer (nullable = true)\n",
      " |-- NAME_CONTRACT_TYPE: string (nullable = true)\n",
      " |-- CODE_GENDER: string (nullable = true)\n",
      " |-- FLAG_OWN_CAR: string (nullable = true)\n",
      " |-- FLAG_OWN_REALTY: string (nullable = true)\n",
      " |-- CNT_CHILDREN: double (nullable = true)\n",
      " |-- AMT_INCOME_TOTAL: double (nullable = true)\n",
      " |-- AMT_CREDIT: double (nullable = true)\n",
      " |-- AMT_ANNUITY: double (nullable = true)\n",
      " |-- NAME_INCOME_TYPE: string (nullable = true)\n",
      " |-- NAME_EDUCATION_TYPE: string (nullable = true)\n",
      " |-- NAME_FAMILY_STATUS: string (nullable = true)\n",
      " |-- NAME_HOUSING_TYPE: string (nullable = true)\n",
      " |-- DAYS_BIRTH: integer (nullable = true)\n",
      " |-- DAYS_EMPLOYED: integer (nullable = true)\n",
      " |-- FLAG_MOBIL: integer (nullable = true)\n",
      " |-- FLAG_EMP_PHONE: integer (nullable = true)\n",
      " |-- FLAG_WORK_PHONE: integer (nullable = true)\n",
      " |-- FLAG_CONT_MOBILE: integer (nullable = true)\n",
      " |-- FLAG_PHONE: double (nullable = true)\n",
      " |-- CNT_FAM_MEMBERS: double (nullable = true)\n",
      " |-- REGION_RATING_CLIENT: integer (nullable = true)\n",
      " |-- REGION_RATING_CLIENT_W_CITY: integer (nullable = true)\n",
      " |-- REG_REGION_NOT_LIVE_REGION: integer (nullable = true)\n",
      " |-- REG_REGION_NOT_WORK_REGION: string (nullable = true)\n",
      " |-- ORGANIZATION_TYPE: string (nullable = true)\n",
      " |-- FLAG_DOCUMENT_2: double (nullable = true)\n",
      " |-- FLAG_DOCUMENT_3: double (nullable = true)\n",
      " |-- FLAG_DOCUMENT_4: double (nullable = true)\n",
      " |-- FLAG_DOCUMENT_5: double (nullable = true)\n",
      " |-- FLAG_DOCUMENT_6: double (nullable = true)\n",
      " |-- FLAG_DOCUMENT_7: double (nullable = true)\n",
      " |-- FLAG_DOCUMENT_8: double (nullable = true)\n",
      " |-- FLAG_DOCUMENT_9: double (nullable = true)\n",
      " |-- FLAG_DOCUMENT_10: double (nullable = true)\n",
      " |-- FLAG_DOCUMENT_11: double (nullable = true)\n",
      " |-- FLAG_DOCUMENT_12: double (nullable = true)\n",
      "\n"
     ]
    }
   ],
   "source": [
    "df.printSchema()"
   ]
  },
  {
   "cell_type": "code",
   "execution_count": 67,
   "id": "8f2a24d7-00be-405b-878c-847b3a707ea1",
   "metadata": {},
   "outputs": [
    {
     "name": "stderr",
     "output_type": "stream",
     "text": [
      "[Stage 40:=============================>                            (4 + 4) / 8]\r"
     ]
    },
    {
     "name": "stdout",
     "output_type": "stream",
     "text": [
      "+------------------+------------------+\n",
      "|        AMT_CREDIT|        AMT_CREDIT|\n",
      "+------------------+------------------+\n",
      "|            307497|            307497|\n",
      "| 599027.0918984575| 599027.0918984575|\n",
      "|402493.94600611855|402493.94600611855|\n",
      "|           45000.0|           45000.0|\n",
      "|         4050000.0|         4050000.0|\n",
      "+------------------+------------------+\n",
      "\n"
     ]
    },
    {
     "name": "stderr",
     "output_type": "stream",
     "text": [
      "                                                                                \r"
     ]
    }
   ],
   "source": [
    "df.describe().select(\"AMT_CREDIT\",\"AMT_CREDIT\").show()"
   ]
  },
  {
   "cell_type": "code",
   "execution_count": 68,
   "id": "175fbc81-de19-4125-a654-b5083822605a",
   "metadata": {},
   "outputs": [
    {
     "name": "stdout",
     "output_type": "stream",
     "text": [
      "(307497, 37)\n"
     ]
    }
   ],
   "source": [
    "print((df.count(), len(df.columns)))"
   ]
  },
  {
   "cell_type": "code",
   "execution_count": 70,
   "id": "9db25c48-468a-4394-921d-a0edd25df70f",
   "metadata": {},
   "outputs": [
    {
     "name": "stderr",
     "output_type": "stream",
     "text": [
      "                                                                                \r"
     ]
    },
    {
     "data": {
      "text/html": [
       "<div>\n",
       "<style scoped>\n",
       "    .dataframe tbody tr th:only-of-type {\n",
       "        vertical-align: middle;\n",
       "    }\n",
       "\n",
       "    .dataframe tbody tr th {\n",
       "        vertical-align: top;\n",
       "    }\n",
       "\n",
       "    .dataframe thead th {\n",
       "        text-align: right;\n",
       "    }\n",
       "</style>\n",
       "<table border=\"1\" class=\"dataframe\">\n",
       "  <thead>\n",
       "    <tr style=\"text-align: right;\">\n",
       "      <th></th>\n",
       "      <th>TARGET</th>\n",
       "      <th>NAME_CONTRACT_TYPE</th>\n",
       "      <th>CODE_GENDER</th>\n",
       "      <th>FLAG_OWN_CAR</th>\n",
       "      <th>FLAG_OWN_REALTY</th>\n",
       "      <th>CNT_CHILDREN</th>\n",
       "      <th>AMT_INCOME_TOTAL</th>\n",
       "      <th>AMT_CREDIT</th>\n",
       "      <th>AMT_ANNUITY</th>\n",
       "      <th>NAME_INCOME_TYPE</th>\n",
       "      <th>...</th>\n",
       "      <th>FLAG_DOCUMENT_3</th>\n",
       "      <th>FLAG_DOCUMENT_4</th>\n",
       "      <th>FLAG_DOCUMENT_5</th>\n",
       "      <th>FLAG_DOCUMENT_6</th>\n",
       "      <th>FLAG_DOCUMENT_7</th>\n",
       "      <th>FLAG_DOCUMENT_8</th>\n",
       "      <th>FLAG_DOCUMENT_9</th>\n",
       "      <th>FLAG_DOCUMENT_10</th>\n",
       "      <th>FLAG_DOCUMENT_11</th>\n",
       "      <th>FLAG_DOCUMENT_12</th>\n",
       "    </tr>\n",
       "  </thead>\n",
       "  <tbody>\n",
       "    <tr>\n",
       "      <th>0</th>\n",
       "      <td>1</td>\n",
       "      <td>Cash loans</td>\n",
       "      <td>M</td>\n",
       "      <td>N</td>\n",
       "      <td>Y</td>\n",
       "      <td>0.0</td>\n",
       "      <td>202500.0</td>\n",
       "      <td>406597.5</td>\n",
       "      <td>24700.5</td>\n",
       "      <td>Working</td>\n",
       "      <td>...</td>\n",
       "      <td>1.0</td>\n",
       "      <td>0.0</td>\n",
       "      <td>0.0</td>\n",
       "      <td>0.0</td>\n",
       "      <td>0.0</td>\n",
       "      <td>0.0</td>\n",
       "      <td>0.0</td>\n",
       "      <td>0.0</td>\n",
       "      <td>0.0</td>\n",
       "      <td>0.0</td>\n",
       "    </tr>\n",
       "    <tr>\n",
       "      <th>1</th>\n",
       "      <td>0</td>\n",
       "      <td>Cash loans</td>\n",
       "      <td>F</td>\n",
       "      <td>N</td>\n",
       "      <td>N</td>\n",
       "      <td>0.0</td>\n",
       "      <td>270000.0</td>\n",
       "      <td>1293502.5</td>\n",
       "      <td>35698.5</td>\n",
       "      <td>State servant</td>\n",
       "      <td>...</td>\n",
       "      <td>1.0</td>\n",
       "      <td>0.0</td>\n",
       "      <td>0.0</td>\n",
       "      <td>0.0</td>\n",
       "      <td>0.0</td>\n",
       "      <td>0.0</td>\n",
       "      <td>0.0</td>\n",
       "      <td>0.0</td>\n",
       "      <td>0.0</td>\n",
       "      <td>0.0</td>\n",
       "    </tr>\n",
       "    <tr>\n",
       "      <th>2</th>\n",
       "      <td>0</td>\n",
       "      <td>Revolving loans</td>\n",
       "      <td>M</td>\n",
       "      <td>Y</td>\n",
       "      <td>Y</td>\n",
       "      <td>0.0</td>\n",
       "      <td>67500.0</td>\n",
       "      <td>135000.0</td>\n",
       "      <td>6750.0</td>\n",
       "      <td>Working</td>\n",
       "      <td>...</td>\n",
       "      <td>0.0</td>\n",
       "      <td>0.0</td>\n",
       "      <td>0.0</td>\n",
       "      <td>0.0</td>\n",
       "      <td>0.0</td>\n",
       "      <td>0.0</td>\n",
       "      <td>0.0</td>\n",
       "      <td>0.0</td>\n",
       "      <td>0.0</td>\n",
       "      <td>0.0</td>\n",
       "    </tr>\n",
       "    <tr>\n",
       "      <th>3</th>\n",
       "      <td>0</td>\n",
       "      <td>Cash loans</td>\n",
       "      <td>F</td>\n",
       "      <td>N</td>\n",
       "      <td>Y</td>\n",
       "      <td>0.0</td>\n",
       "      <td>135000.0</td>\n",
       "      <td>312682.5</td>\n",
       "      <td>29686.5</td>\n",
       "      <td>Working</td>\n",
       "      <td>...</td>\n",
       "      <td>1.0</td>\n",
       "      <td>0.0</td>\n",
       "      <td>0.0</td>\n",
       "      <td>0.0</td>\n",
       "      <td>0.0</td>\n",
       "      <td>0.0</td>\n",
       "      <td>0.0</td>\n",
       "      <td>0.0</td>\n",
       "      <td>0.0</td>\n",
       "      <td>0.0</td>\n",
       "    </tr>\n",
       "    <tr>\n",
       "      <th>4</th>\n",
       "      <td>0</td>\n",
       "      <td>Cash loans</td>\n",
       "      <td>M</td>\n",
       "      <td>N</td>\n",
       "      <td>Y</td>\n",
       "      <td>0.0</td>\n",
       "      <td>121500.0</td>\n",
       "      <td>513000.0</td>\n",
       "      <td>21865.5</td>\n",
       "      <td>Working</td>\n",
       "      <td>...</td>\n",
       "      <td>0.0</td>\n",
       "      <td>0.0</td>\n",
       "      <td>0.0</td>\n",
       "      <td>0.0</td>\n",
       "      <td>0.0</td>\n",
       "      <td>1.0</td>\n",
       "      <td>0.0</td>\n",
       "      <td>0.0</td>\n",
       "      <td>0.0</td>\n",
       "      <td>0.0</td>\n",
       "    </tr>\n",
       "  </tbody>\n",
       "</table>\n",
       "<p>5 rows × 37 columns</p>\n",
       "</div>"
      ],
      "text/plain": [
       "   TARGET NAME_CONTRACT_TYPE CODE_GENDER FLAG_OWN_CAR FLAG_OWN_REALTY  \\\n",
       "0       1         Cash loans           M            N               Y   \n",
       "1       0         Cash loans           F            N               N   \n",
       "2       0    Revolving loans           M            Y               Y   \n",
       "3       0         Cash loans           F            N               Y   \n",
       "4       0         Cash loans           M            N               Y   \n",
       "\n",
       "   CNT_CHILDREN  AMT_INCOME_TOTAL  AMT_CREDIT  AMT_ANNUITY NAME_INCOME_TYPE  \\\n",
       "0           0.0          202500.0    406597.5      24700.5          Working   \n",
       "1           0.0          270000.0   1293502.5      35698.5    State servant   \n",
       "2           0.0           67500.0    135000.0       6750.0          Working   \n",
       "3           0.0          135000.0    312682.5      29686.5          Working   \n",
       "4           0.0          121500.0    513000.0      21865.5          Working   \n",
       "\n",
       "   ... FLAG_DOCUMENT_3 FLAG_DOCUMENT_4 FLAG_DOCUMENT_5  FLAG_DOCUMENT_6  \\\n",
       "0  ...             1.0             0.0             0.0              0.0   \n",
       "1  ...             1.0             0.0             0.0              0.0   \n",
       "2  ...             0.0             0.0             0.0              0.0   \n",
       "3  ...             1.0             0.0             0.0              0.0   \n",
       "4  ...             0.0             0.0             0.0              0.0   \n",
       "\n",
       "   FLAG_DOCUMENT_7  FLAG_DOCUMENT_8  FLAG_DOCUMENT_9  FLAG_DOCUMENT_10  \\\n",
       "0              0.0              0.0              0.0               0.0   \n",
       "1              0.0              0.0              0.0               0.0   \n",
       "2              0.0              0.0              0.0               0.0   \n",
       "3              0.0              0.0              0.0               0.0   \n",
       "4              0.0              1.0              0.0               0.0   \n",
       "\n",
       "   FLAG_DOCUMENT_11  FLAG_DOCUMENT_12  \n",
       "0               0.0               0.0  \n",
       "1               0.0               0.0  \n",
       "2               0.0               0.0  \n",
       "3               0.0               0.0  \n",
       "4               0.0               0.0  \n",
       "\n",
       "[5 rows x 37 columns]"
      ]
     },
     "execution_count": 70,
     "metadata": {},
     "output_type": "execute_result"
    }
   ],
   "source": [
    "df.toPandas().head()"
   ]
  },
  {
   "cell_type": "code",
   "execution_count": 71,
   "id": "192984bf-1bc1-4ce1-b375-77022cf535ab",
   "metadata": {},
   "outputs": [],
   "source": [
    "categorical_cols = [\"NAME_CONTRACT_TYPE\", \"CODE_GENDER\", \"FLAG_OWN_CAR\", \"FLAG_OWN_REALTY\", \"NAME_INCOME_TYPE\", \"NAME_EDUCATION_TYPE\", \"NAME_FAMILY_STATUS\", \"NAME_HOUSING_TYPE\", \"ORGANIZATION_TYPE\"]\n",
    "num_cols = [\"CNT_CHILDREN\", \"AMT_INCOME_TOTAL\", \"AMT_CREDIT\", \"AMT_ANNUITY\", \"DAYS_BIRTH\", \"DAYS_EMPLOYED\", \"FLAG_MOBIL\", \"FLAG_EMP_PHONE\", \"FLAG_WORK_PHONE\", \"FLAG_CONT_MOBILE\", \"FLAG_PHONE\", \"CNT_FAM_MEMBERS\", \"REGION_RATING_CLIENT\", \"REGION_RATING_CLIENT_W_CITY\", \"REG_REGION_NOT_LIVE_REGION\", \"REG_REGION_NOT_WORK_REGION\", \"FLAG_DOCUMENT_2\",'FLAG_DOCUMENT_3','FLAG_DOCUMENT_4','FLAG_DOCUMENT_5','FLAG_DOCUMENT_6','FLAG_DOCUMENT_7','FLAG_DOCUMENT_8','FLAG_DOCUMENT_9','FLAG_DOCUMENT_10','FLAG_DOCUMENT_11','FLAG_DOCUMENT_12']"
   ]
  },
  {
   "cell_type": "code",
   "execution_count": 72,
   "id": "a44cb6d7-5605-403f-b301-d066e8e33789",
   "metadata": {},
   "outputs": [],
   "source": [
    "for x in num_cols:\n",
    "    df = df.withColumn(x,df[x].cast(DoubleType()))"
   ]
  },
  {
   "cell_type": "code",
   "execution_count": 73,
   "id": "0ce6e4df-f9ac-49bd-8007-51b12974bdcc",
   "metadata": {},
   "outputs": [],
   "source": [
    "stages = []\n",
    "for col in categorical_cols:\n",
    "    indexer = StringIndexer(inputCol=col,outputCol=col+'Ind')\n",
    "    stages.append(indexer)"
   ]
  },
  {
   "cell_type": "code",
   "execution_count": 74,
   "id": "8e79d4a3-3dae-4c0c-b356-54fdb3733e72",
   "metadata": {},
   "outputs": [
    {
     "data": {
      "text/plain": [
       "[StringIndexer_6daf480359f5,\n",
       " StringIndexer_34e88d4ed380,\n",
       " StringIndexer_d99db9c4406c,\n",
       " StringIndexer_d3d0d2324371,\n",
       " StringIndexer_e11602a6ca7b,\n",
       " StringIndexer_067b73eca9a0,\n",
       " StringIndexer_63c47571533c,\n",
       " StringIndexer_7f5bef723101,\n",
       " StringIndexer_eb37e7006b34]"
      ]
     },
     "execution_count": 74,
     "metadata": {},
     "output_type": "execute_result"
    }
   ],
   "source": [
    "stages"
   ]
  },
  {
   "cell_type": "code",
   "execution_count": 75,
   "id": "7ca89100-8040-4cf9-8776-fd270c199e4c",
   "metadata": {},
   "outputs": [],
   "source": [
    "label_indexer = StringIndexer(inputCol = \"TARGET\", outputCol = \"TARGETIND\")\n",
    "stages.append(label_indexer)"
   ]
  },
  {
   "cell_type": "code",
   "execution_count": 76,
   "id": "eecdb310-a1ae-45ad-a537-6febb57aa96e",
   "metadata": {},
   "outputs": [],
   "source": [
    "categorical_ind_cols = []\n",
    "for i in categorical_cols:\n",
    "    categorical_ind_cols.append(i+'Ind')"
   ]
  },
  {
   "cell_type": "code",
   "execution_count": 77,
   "id": "9310dd3d-9566-4baf-8798-ffdfc5db9ab7",
   "metadata": {},
   "outputs": [],
   "source": [
    "assembler = VectorAssembler(inputCols=categorical_ind_cols + num_cols, outputCol='features')\n",
    "stages.append(assembler)"
   ]
  },
  {
   "cell_type": "code",
   "execution_count": 78,
   "id": "271d7e14-2945-41c0-98c3-921490121125",
   "metadata": {},
   "outputs": [
    {
     "data": {
      "text/plain": [
       "[StringIndexer_6daf480359f5,\n",
       " StringIndexer_34e88d4ed380,\n",
       " StringIndexer_d99db9c4406c,\n",
       " StringIndexer_d3d0d2324371,\n",
       " StringIndexer_e11602a6ca7b,\n",
       " StringIndexer_067b73eca9a0,\n",
       " StringIndexer_63c47571533c,\n",
       " StringIndexer_7f5bef723101,\n",
       " StringIndexer_eb37e7006b34,\n",
       " StringIndexer_b8c0d670b9c8,\n",
       " VectorAssembler_59ec68525464]"
      ]
     },
     "execution_count": 78,
     "metadata": {},
     "output_type": "execute_result"
    }
   ],
   "source": [
    "stages"
   ]
  },
  {
   "cell_type": "code",
   "execution_count": 79,
   "id": "cdd3ac20-088b-426e-a3f1-992c0b7a8194",
   "metadata": {},
   "outputs": [
    {
     "data": {
      "text/plain": [
       "[('TARGET', 'int'),\n",
       " ('NAME_CONTRACT_TYPE', 'string'),\n",
       " ('CODE_GENDER', 'string'),\n",
       " ('FLAG_OWN_CAR', 'string'),\n",
       " ('FLAG_OWN_REALTY', 'string'),\n",
       " ('CNT_CHILDREN', 'double'),\n",
       " ('AMT_INCOME_TOTAL', 'double'),\n",
       " ('AMT_CREDIT', 'double'),\n",
       " ('AMT_ANNUITY', 'double'),\n",
       " ('NAME_INCOME_TYPE', 'string'),\n",
       " ('NAME_EDUCATION_TYPE', 'string'),\n",
       " ('NAME_FAMILY_STATUS', 'string'),\n",
       " ('NAME_HOUSING_TYPE', 'string'),\n",
       " ('DAYS_BIRTH', 'double'),\n",
       " ('DAYS_EMPLOYED', 'double'),\n",
       " ('FLAG_MOBIL', 'double'),\n",
       " ('FLAG_EMP_PHONE', 'double'),\n",
       " ('FLAG_WORK_PHONE', 'double'),\n",
       " ('FLAG_CONT_MOBILE', 'double'),\n",
       " ('FLAG_PHONE', 'double'),\n",
       " ('CNT_FAM_MEMBERS', 'double'),\n",
       " ('REGION_RATING_CLIENT', 'double'),\n",
       " ('REGION_RATING_CLIENT_W_CITY', 'double'),\n",
       " ('REG_REGION_NOT_LIVE_REGION', 'double'),\n",
       " ('REG_REGION_NOT_WORK_REGION', 'double'),\n",
       " ('ORGANIZATION_TYPE', 'string'),\n",
       " ('FLAG_DOCUMENT_2', 'double'),\n",
       " ('FLAG_DOCUMENT_3', 'double'),\n",
       " ('FLAG_DOCUMENT_4', 'double'),\n",
       " ('FLAG_DOCUMENT_5', 'double'),\n",
       " ('FLAG_DOCUMENT_6', 'double'),\n",
       " ('FLAG_DOCUMENT_7', 'double'),\n",
       " ('FLAG_DOCUMENT_8', 'double'),\n",
       " ('FLAG_DOCUMENT_9', 'double'),\n",
       " ('FLAG_DOCUMENT_10', 'double'),\n",
       " ('FLAG_DOCUMENT_11', 'double'),\n",
       " ('FLAG_DOCUMENT_12', 'double')]"
      ]
     },
     "execution_count": 79,
     "metadata": {},
     "output_type": "execute_result"
    }
   ],
   "source": [
    "df.dtypes"
   ]
  },
  {
   "cell_type": "code",
   "execution_count": 80,
   "id": "fb828b69-3e62-4c1a-bcbd-8b48af1b4b57",
   "metadata": {},
   "outputs": [],
   "source": [
    "pipeline = Pipeline(stages=stages)"
   ]
  },
  {
   "cell_type": "code",
   "execution_count": 81,
   "id": "9d03f501-c919-4291-8f2b-101846b1bfe0",
   "metadata": {},
   "outputs": [],
   "source": [
    "pipelineModel = pipeline.fit(df)\n",
    "dataset = pipelineModel.transform(df)"
   ]
  },
  {
   "cell_type": "code",
   "execution_count": 82,
   "id": "6381e996-79f1-4ed4-bd37-4810a55dbeed",
   "metadata": {},
   "outputs": [
    {
     "data": {
      "text/plain": [
       "Row(TARGET=1, NAME_CONTRACT_TYPE='Cash loans', CODE_GENDER='M', FLAG_OWN_CAR='N', FLAG_OWN_REALTY='Y', CNT_CHILDREN=0.0, AMT_INCOME_TOTAL=202500.0, AMT_CREDIT=406597.5, AMT_ANNUITY=24700.5, NAME_INCOME_TYPE='Working', NAME_EDUCATION_TYPE='Secondary / secondary special', NAME_FAMILY_STATUS='Single / not married', NAME_HOUSING_TYPE='House / apartment', DAYS_BIRTH=-9461.0, DAYS_EMPLOYED=-637.0, FLAG_MOBIL=1.0, FLAG_EMP_PHONE=1.0, FLAG_WORK_PHONE=0.0, FLAG_CONT_MOBILE=1.0, FLAG_PHONE=1.0, CNT_FAM_MEMBERS=1.0, REGION_RATING_CLIENT=2.0, REGION_RATING_CLIENT_W_CITY=2.0, REG_REGION_NOT_LIVE_REGION=0.0, REG_REGION_NOT_WORK_REGION=0.0, ORGANIZATION_TYPE='Business Entity Type 3', FLAG_DOCUMENT_2=0.0, FLAG_DOCUMENT_3=1.0, FLAG_DOCUMENT_4=0.0, FLAG_DOCUMENT_5=0.0, FLAG_DOCUMENT_6=0.0, FLAG_DOCUMENT_7=0.0, FLAG_DOCUMENT_8=0.0, FLAG_DOCUMENT_9=0.0, FLAG_DOCUMENT_10=0.0, FLAG_DOCUMENT_11=0.0, FLAG_DOCUMENT_12=0.0, NAME_CONTRACT_TYPEInd=0.0, CODE_GENDERInd=1.0, FLAG_OWN_CARInd=0.0, FLAG_OWN_REALTYInd=0.0, NAME_INCOME_TYPEInd=0.0, NAME_EDUCATION_TYPEInd=0.0, NAME_FAMILY_STATUSInd=1.0, NAME_HOUSING_TYPEInd=0.0, ORGANIZATION_TYPEInd=0.0, TARGETIND=1.0, features=SparseVector(36, {1: 1.0, 6: 1.0, 10: 202500.0, 11: 406597.5, 12: 24700.5, 13: -9461.0, 14: -637.0, 15: 1.0, 16: 1.0, 18: 1.0, 19: 1.0, 20: 1.0, 21: 2.0, 22: 2.0, 26: 1.0}))"
      ]
     },
     "execution_count": 82,
     "metadata": {},
     "output_type": "execute_result"
    }
   ],
   "source": [
    "dataset.head()"
   ]
  },
  {
   "cell_type": "code",
   "execution_count": 83,
   "id": "161e84c8-835e-49b2-ac50-d527dad2a266",
   "metadata": {},
   "outputs": [],
   "source": [
    "dataset = dataset.select(['features','TARGETIND'])"
   ]
  },
  {
   "cell_type": "code",
   "execution_count": 84,
   "id": "6e517f57-9276-4b4d-9173-88e6f609808d",
   "metadata": {},
   "outputs": [],
   "source": [
    "(trainData, testData) = dataset.randomSplit([0.8, 0.2])"
   ]
  },
  {
   "cell_type": "code",
   "execution_count": 101,
   "id": "61558293-ac53-4e42-b0a2-c6969e764ba2",
   "metadata": {},
   "outputs": [],
   "source": [
    "lr = LogisticRegression(labelCol=\"TARGETIND\", featuresCol=\"features\",maxIter=10)"
   ]
  },
  {
   "cell_type": "code",
   "execution_count": 102,
   "id": "16f7424d-7602-42fc-b041-882f51978fc1",
   "metadata": {},
   "outputs": [
    {
     "name": "stderr",
     "output_type": "stream",
     "text": [
      "                                                                                \r"
     ]
    }
   ],
   "source": [
    "model=lr.fit(trainData)"
   ]
  },
  {
   "cell_type": "code",
   "execution_count": 103,
   "id": "76496d5d-77a2-45f4-9e2c-f7c7d6b8fd07",
   "metadata": {},
   "outputs": [],
   "source": [
    "predict_train=model.transform(trainData)"
   ]
  },
  {
   "cell_type": "code",
   "execution_count": 104,
   "id": "c77a6b82-8230-46ea-8a49-4801d163a1b6",
   "metadata": {},
   "outputs": [],
   "source": [
    "predict_test=model.transform(testData)"
   ]
  },
  {
   "cell_type": "code",
   "execution_count": 105,
   "id": "7cd8519c-555e-436d-b69f-73dcb18321d5",
   "metadata": {},
   "outputs": [
    {
     "name": "stdout",
     "output_type": "stream",
     "text": [
      "+---------+----------+\n",
      "|TARGETIND|prediction|\n",
      "+---------+----------+\n",
      "|      0.0|       0.0|\n",
      "|      0.0|       0.0|\n",
      "|      0.0|       0.0|\n",
      "|      0.0|       0.0|\n",
      "|      0.0|       0.0|\n",
      "|      0.0|       0.0|\n",
      "|      0.0|       0.0|\n",
      "|      0.0|       0.0|\n",
      "|      0.0|       0.0|\n",
      "|      0.0|       0.0|\n",
      "+---------+----------+\n",
      "only showing top 10 rows\n",
      "\n"
     ]
    },
    {
     "name": "stderr",
     "output_type": "stream",
     "text": [
      "                                                                                \r"
     ]
    }
   ],
   "source": [
    "predict_test.select(\"TARGETIND\",\"prediction\").show(10)"
   ]
  },
  {
   "cell_type": "code",
   "execution_count": 106,
   "id": "83855c4e-9372-47ff-8a0d-0d151d34dbd2",
   "metadata": {},
   "outputs": [],
   "source": [
    "evaluator = MulticlassClassificationEvaluator(labelCol=\"TARGETIND\", predictionCol=\"prediction\", metricName=\"accuracy\")"
   ]
  },
  {
   "cell_type": "code",
   "execution_count": 107,
   "id": "f7ded2ef-0f8c-4b2b-8299-01969708cc0d",
   "metadata": {},
   "outputs": [
    {
     "name": "stderr",
     "output_type": "stream",
     "text": [
      "                                                                                \r"
     ]
    }
   ],
   "source": [
    "accuracy = evaluator.evaluate(predict_test)"
   ]
  },
  {
   "cell_type": "code",
   "execution_count": 108,
   "id": "9c2f4119-1cec-46d3-9ea7-70ede0dd3eee",
   "metadata": {},
   "outputs": [
    {
     "name": "stdout",
     "output_type": "stream",
     "text": [
      "Accuracy = 91.66936005171299 %\n"
     ]
    }
   ],
   "source": [
    "(print('Accuracy =',accuracy * 100,'%'))"
   ]
  },
  {
   "cell_type": "code",
   "execution_count": 111,
   "id": "21e1db4e-676d-4aef-a63f-f42a3507695d",
   "metadata": {},
   "outputs": [
    {
     "data": {
      "text/plain": [
       "LogisticRegression_95172d794004"
      ]
     },
     "execution_count": 111,
     "metadata": {},
     "output_type": "execute_result"
    }
   ],
   "source": [
    "lr"
   ]
  },
  {
   "cell_type": "code",
   "execution_count": null,
   "id": "22e57f5e-11a3-4473-a400-38574c933fcb",
   "metadata": {},
   "outputs": [],
   "source": [
    "import pickle\n",
    "pickle_out = open(\"model.pkl\", \"wb\")\n",
    "pickle.dump(lr, pickle_out)\n",
    "pickle_out.close()"
   ]
  },
  {
   "cell_type": "code",
   "execution_count": null,
   "id": "439f3cf5-ec1a-4107-8256-27c129de0394",
   "metadata": {},
   "outputs": [],
   "source": []
  }
 ],
 "metadata": {
  "kernelspec": {
   "display_name": "Python 3 (ipykernel)",
   "language": "python",
   "name": "python3"
  },
  "language_info": {
   "codemirror_mode": {
    "name": "ipython",
    "version": 3
   },
   "file_extension": ".py",
   "mimetype": "text/x-python",
   "name": "python",
   "nbconvert_exporter": "python",
   "pygments_lexer": "ipython3",
   "version": "3.9.7"
  }
 },
 "nbformat": 4,
 "nbformat_minor": 5
}
